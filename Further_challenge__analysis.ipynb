{
  "nbformat": 4,
  "nbformat_minor": 0,
  "metadata": {
    "colab": {
      "name": "Further_challenge _analysis.ipynb",
      "provenance": []
    },
    "kernelspec": {
      "name": "python3",
      "display_name": "Python 3"
    },
    "language_info": {
      "name": "python"
    }
  },
  "cells": [
    {
      "cell_type": "code",
      "execution_count": 1,
      "metadata": {
        "colab": {
          "base_uri": "https://localhost:8080/"
        },
        "id": "bKc9fzn9GhuA",
        "outputId": "ec279808-85f2-41e8-ec91-5360b02424e7"
      },
      "outputs": [
        {
          "output_type": "stream",
          "name": "stdout",
          "text": [
            "Get:1 http://security.ubuntu.com/ubuntu bionic-security InRelease [88.7 kB]\n",
            "Hit:2 https://cloud.r-project.org/bin/linux/ubuntu bionic-cran40/ InRelease\n",
            "Ign:3 https://developer.download.nvidia.com/compute/cuda/repos/ubuntu1804/x86_64  InRelease\n",
            "Hit:4 http://ppa.launchpad.net/c2d4u.team/c2d4u4.0+/ubuntu bionic InRelease\n",
            "Hit:5 http://archive.ubuntu.com/ubuntu bionic InRelease\n",
            "Ign:6 https://developer.download.nvidia.com/compute/machine-learning/repos/ubuntu1804/x86_64  InRelease\n",
            "Hit:7 https://developer.download.nvidia.com/compute/cuda/repos/ubuntu1804/x86_64  Release\n",
            "Hit:8 https://developer.download.nvidia.com/compute/machine-learning/repos/ubuntu1804/x86_64  Release\n",
            "Get:9 http://archive.ubuntu.com/ubuntu bionic-updates InRelease [88.7 kB]\n",
            "Hit:10 http://ppa.launchpad.net/cran/libgit2/ubuntu bionic InRelease\n",
            "Hit:11 http://ppa.launchpad.net/deadsnakes/ppa/ubuntu bionic InRelease\n",
            "Get:12 http://archive.ubuntu.com/ubuntu bionic-backports InRelease [74.6 kB]\n",
            "Hit:13 http://ppa.launchpad.net/graphics-drivers/ppa/ubuntu bionic InRelease\n",
            "Get:14 http://security.ubuntu.com/ubuntu bionic-security/main amd64 Packages [2,594 kB]\n",
            "Get:15 http://security.ubuntu.com/ubuntu bionic-security/restricted amd64 Packages [806 kB]\n",
            "Get:16 http://security.ubuntu.com/ubuntu bionic-security/universe amd64 Packages [1,474 kB]\n",
            "Fetched 5,126 kB in 5s (1,057 kB/s)\n",
            "Reading package lists... Done\n"
          ]
        }
      ],
      "source": [
        "import os\n",
        "# Find the latest version of spark 3.0  from http://www-us.apache.org/dist/spark/ and enter as the spark version\n",
        "# For example:\n",
        "# spark_version = 'spark-3.0.2'\n",
        "spark_version = 'spark-3.0.3'\n",
        "os.environ['SPARK_VERSION']=spark_version\n",
        "\n",
        "# Install Spark and Java\n",
        "!apt-get update\n",
        "!apt-get install openjdk-11-jdk-headless -qq > /dev/null\n",
        "!wget -q http://www.apache.org/dist/spark/$SPARK_VERSION/$SPARK_VERSION-bin-hadoop2.7.tgz\n",
        "!tar xf $SPARK_VERSION-bin-hadoop2.7.tgz\n",
        "!pip install -q findspark\n",
        "\n",
        "\n"
      ]
    },
    {
      "cell_type": "code",
      "source": [
        "# Set Environment Variables\n",
        "import os\n",
        "os.environ[\"JAVA_HOME\"] = \"/usr/lib/jvm/java-11-openjdk-amd64\"\n",
        "os.environ[\"SPARK_HOME\"] = f\"/content/{spark_version}-bin-hadoop2.7\"\n"
      ],
      "metadata": {
        "id": "kKj7A7bfGrps"
      },
      "execution_count": 2,
      "outputs": []
    },
    {
      "cell_type": "code",
      "source": [
        "# Start a SparkSession\n",
        "\n",
        "import findspark\n",
        "findspark.init()"
      ],
      "metadata": {
        "id": "eJAIl-K1GvbM"
      },
      "execution_count": 3,
      "outputs": []
    },
    {
      "cell_type": "code",
      "source": [
        "from pyspark.sql import SparkSession\n",
        "spark = SparkSession.builder.appName(\"M16-Amazon-Challenge\").config(\"spark.driver.extraClassPath\",\"/content/postgresql-42.2.16.jar\").getOrCreate()"
      ],
      "metadata": {
        "id": "EytRFzcoIG1H"
      },
      "execution_count": 4,
      "outputs": []
    },
    {
      "cell_type": "code",
      "source": [
        "from pyspark import SparkFiles\n",
        "url = \"https://s3.amazonaws.com/amazon-reviews-pds/tsv/amazon_reviews_us_Wireless_v1_00.tsv.gz\"\n",
        "spark.sparkContext.addFile(url)\n",
        "df = spark.read.option(\"encoding\", \"UTF-8\").csv(SparkFiles.get(\"amazon_reviews_us_Wireless_v1_00.tsv.gz\"), sep=\"\\t\", header=True, inferSchema=True)\n",
        "df.show(5)"
      ],
      "metadata": {
        "colab": {
          "base_uri": "https://localhost:8080/"
        },
        "id": "TWodw7VNGx6i",
        "outputId": "524c7806-4d4c-4e40-d54d-8d4e6bfbe748"
      },
      "execution_count": 5,
      "outputs": [
        {
          "output_type": "stream",
          "name": "stdout",
          "text": [
            "+-----------+-----------+--------------+----------+--------------+--------------------+----------------+-----------+-------------+-----------+----+-----------------+--------------------+--------------------+-----------+\n",
            "|marketplace|customer_id|     review_id|product_id|product_parent|       product_title|product_category|star_rating|helpful_votes|total_votes|vine|verified_purchase|     review_headline|         review_body|review_date|\n",
            "+-----------+-----------+--------------+----------+--------------+--------------------+----------------+-----------+-------------+-----------+----+-----------------+--------------------+--------------------+-----------+\n",
            "|         US|   16414143|R3W4P9UBGNGH1U|B00YL0EKWE|     852431543|LG G4 Case Hard T...|        Wireless|          2|            1|          3|   N|                Y|Looks good, funct...|2 issues  -  Once...| 2015-08-31|\n",
            "|         US|   50800750|R15V54KBMTQWAY|B00XK95RPQ|     516894650|Selfie Stick Fibl...|        Wireless|          4|            0|          0|   N|                N| A fun little gadget|I’m embarrassed t...| 2015-08-31|\n",
            "|         US|   15184378| RY8I449HNXSVF|B00SXRXUKO|     984297154|Tribe AB40 Water ...|        Wireless|          5|            0|          0|   N|                Y|          Five Stars|  Fits iPhone 6 well| 2015-08-31|\n",
            "|         US|   10203548|R18TLJYCKJFLSR|B009V5X1CE|     279912704|RAVPower® Element...|        Wireless|          5|            0|          0|   N|                Y|       Great charger|Great charger.  I...| 2015-08-31|\n",
            "|         US|     488280|R1NK26SWS53B8Q|B00D93OVF0|     662791300|Fosmon Micro USB ...|        Wireless|          5|            0|          0|   N|                Y|          Five Stars|Great for the pri...| 2015-08-31|\n",
            "+-----------+-----------+--------------+----------+--------------+--------------------+----------------+-----------+-------------+-----------+----+-----------------+--------------------+--------------------+-----------+\n",
            "only showing top 5 rows\n",
            "\n"
          ]
        }
      ]
    },
    {
      "cell_type": "code",
      "source": [
        "from pyspark.ml.feature import  HashingTF, IDF, StringIndexer,Tokenizer,StopWordsRemover\n"
      ],
      "metadata": {
        "id": "poyU0HHfIvCv"
      },
      "execution_count": 6,
      "outputs": []
    },
    {
      "cell_type": "code",
      "source": [
        "from pyspark.sql.functions import length\n",
        "#Create a length column to be used as a future feature\n",
        "data_df = df.withColumn('length',length(df['product_title']))\n",
        "data_df.show(5)"
      ],
      "metadata": {
        "colab": {
          "base_uri": "https://localhost:8080/"
        },
        "id": "AmzG-YWoKbi7",
        "outputId": "00841e47-d143-4a91-80b1-d9dbe9620d47"
      },
      "execution_count": 7,
      "outputs": [
        {
          "output_type": "stream",
          "name": "stdout",
          "text": [
            "+-----------+-----------+--------------+----------+--------------+--------------------+----------------+-----------+-------------+-----------+----+-----------------+--------------------+--------------------+-----------+------+\n",
            "|marketplace|customer_id|     review_id|product_id|product_parent|       product_title|product_category|star_rating|helpful_votes|total_votes|vine|verified_purchase|     review_headline|         review_body|review_date|length|\n",
            "+-----------+-----------+--------------+----------+--------------+--------------------+----------------+-----------+-------------+-----------+----+-----------------+--------------------+--------------------+-----------+------+\n",
            "|         US|   16414143|R3W4P9UBGNGH1U|B00YL0EKWE|     852431543|LG G4 Case Hard T...|        Wireless|          2|            1|          3|   N|                Y|Looks good, funct...|2 issues  -  Once...| 2015-08-31|    54|\n",
            "|         US|   50800750|R15V54KBMTQWAY|B00XK95RPQ|     516894650|Selfie Stick Fibl...|        Wireless|          4|            0|          0|   N|                N| A fun little gadget|I’m embarrassed t...| 2015-08-31|   120|\n",
            "|         US|   15184378| RY8I449HNXSVF|B00SXRXUKO|     984297154|Tribe AB40 Water ...|        Wireless|          5|            0|          0|   N|                Y|          Five Stars|  Fits iPhone 6 well| 2015-08-31|   132|\n",
            "|         US|   10203548|R18TLJYCKJFLSR|B009V5X1CE|     279912704|RAVPower® Element...|        Wireless|          5|            0|          0|   N|                Y|       Great charger|Great charger.  I...| 2015-08-31|   399|\n",
            "|         US|     488280|R1NK26SWS53B8Q|B00D93OVF0|     662791300|Fosmon Micro USB ...|        Wireless|          5|            0|          0|   N|                Y|          Five Stars|Great for the pri...| 2015-08-31|   134|\n",
            "+-----------+-----------+--------------+----------+--------------+--------------------+----------------+-----------+-------------+-----------+----+-----------------+--------------------+--------------------+-----------+------+\n",
            "only showing top 5 rows\n",
            "\n"
          ]
        }
      ]
    },
    {
      "cell_type": "code",
      "source": [
        "select_data_df = data_df.select(\"review_id\",\"product_title\",\"star_rating\",\"vine\",\"length\")\n",
        "select_data_df.show(5)\n",
        "select_data_df.na.drop()"
      ],
      "metadata": {
        "colab": {
          "base_uri": "https://localhost:8080/"
        },
        "id": "AL3IYSpNI7QR",
        "outputId": "abdeb9ca-f412-44f8-d20d-b93a8ee64491"
      },
      "execution_count": 8,
      "outputs": [
        {
          "output_type": "stream",
          "name": "stdout",
          "text": [
            "+--------------+--------------------+-----------+----+------+\n",
            "|     review_id|       product_title|star_rating|vine|length|\n",
            "+--------------+--------------------+-----------+----+------+\n",
            "|R3W4P9UBGNGH1U|LG G4 Case Hard T...|          2|   N|    54|\n",
            "|R15V54KBMTQWAY|Selfie Stick Fibl...|          4|   N|   120|\n",
            "| RY8I449HNXSVF|Tribe AB40 Water ...|          5|   N|   132|\n",
            "|R18TLJYCKJFLSR|RAVPower® Element...|          5|   N|   399|\n",
            "|R1NK26SWS53B8Q|Fosmon Micro USB ...|          5|   N|   134|\n",
            "+--------------+--------------------+-----------+----+------+\n",
            "only showing top 5 rows\n",
            "\n"
          ]
        },
        {
          "output_type": "execute_result",
          "data": {
            "text/plain": [
              "DataFrame[review_id: string, product_title: string, star_rating: string, vine: string, length: int]"
            ]
          },
          "metadata": {},
          "execution_count": 8
        }
      ]
    },
    {
      "cell_type": "code",
      "source": [
        "#Create all dataset features\n",
        "\n",
        "vine_to_num = StringIndexer(inputCol='vine',outputCol='label')\n",
        "vine_to_num.setHandleInvalid('skip')\n",
        "tokenizer = Tokenizer(inputCol='product_title',outputCol='token_text')\n",
        "remover = StopWordsRemover(inputCol='token_text',outputCol='stop_token')\n",
        "hashingtf = HashingTF(inputCol='stop_token',outputCol='hash_token')\n",
        "idf=IDF(inputCol='hash_token',outputCol='idf_token')\n"
      ],
      "metadata": {
        "id": "rZJqFUpkJz8V"
      },
      "execution_count": 9,
      "outputs": []
    },
    {
      "cell_type": "code",
      "source": [
        "from pyspark.ml.feature import VectorAssembler\n",
        "from pyspark.ml.linalg import Vector\n",
        "#Create feature vectors\n",
        "clean_up = VectorAssembler(inputCols = ['idf_token', 'length'],outputCol='features')"
      ],
      "metadata": {
        "id": "JfQy8DONLvMN"
      },
      "execution_count": 10,
      "outputs": []
    },
    {
      "cell_type": "code",
      "source": [
        "#Create and run a data processing pipelaine\n",
        "from pyspark.ml import Pipeline\n",
        "data_prep_pipeline = Pipeline(stages=[vine_to_num,tokenizer,remover,hashingtf,idf,clean_up])"
      ],
      "metadata": {
        "id": "mKKE9hOfL1Bs"
      },
      "execution_count": 11,
      "outputs": []
    },
    {
      "cell_type": "code",
      "source": [
        "#Fit and transform the pipeline\n",
        "cleaner = data_prep_pipeline.fit(select_data_df)\n",
        "cleaned = cleaner.transform(select_data_df)\n",
        "cleaned.select('vine','label','features').show(10)"
      ],
      "metadata": {
        "colab": {
          "base_uri": "https://localhost:8080/"
        },
        "id": "7fWls8yIL_3e",
        "outputId": "29f944aa-7a1b-4037-e590-525f55386ca3"
      },
      "execution_count": 12,
      "outputs": [
        {
          "output_type": "stream",
          "name": "stdout",
          "text": [
            "+----+-----+--------------------+\n",
            "|vine|label|            features|\n",
            "+----+-----+--------------------+\n",
            "|   N|  0.0|(262145,[2437,102...|\n",
            "|   N|  0.0|(262145,[6122,208...|\n",
            "|   N|  0.0|(262145,[23090,31...|\n",
            "|   N|  0.0|(262145,[228,1252...|\n",
            "|   N|  0.0|(262145,[17893,25...|\n",
            "|   N|  0.0|(262145,[2437,992...|\n",
            "|   N|  0.0|(262145,[24346,26...|\n",
            "|   N|  0.0|(262145,[48443,67...|\n",
            "|   N|  0.0|(262145,[13540,31...|\n",
            "|   N|  0.0|(262145,[12580,17...|\n",
            "+----+-----+--------------------+\n",
            "only showing top 10 rows\n",
            "\n"
          ]
        }
      ]
    },
    {
      "cell_type": "code",
      "source": [
        "#Break data down into a training set and a testing set\n",
        "training, testing = cleaned.randomSplit([0.7,0.3],21)\n"
      ],
      "metadata": {
        "id": "cCGmI6WdNsFv"
      },
      "execution_count": 13,
      "outputs": []
    },
    {
      "cell_type": "code",
      "source": [
        "from pyspark.ml.classification import NaiveBayes\n",
        "#Create a NaiveBayes model and fit the training data\n",
        "\n",
        "nb = NaiveBayes()\n",
        "predictor = nb.fit(training)"
      ],
      "metadata": {
        "id": "yNTVO8OSNzb8"
      },
      "execution_count": 14,
      "outputs": []
    },
    {
      "cell_type": "code",
      "source": [
        "#Transform the model with the testing data\n",
        "test_results = predictor.transform(testing)\n",
        "test_results.show(5)"
      ],
      "metadata": {
        "colab": {
          "base_uri": "https://localhost:8080/"
        },
        "id": "fsyKWU0XOAn-",
        "outputId": "61b0777a-f5e7-42d4-9fd2-f096619ebc75"
      },
      "execution_count": 15,
      "outputs": [
        {
          "output_type": "stream",
          "name": "stdout",
          "text": [
            "+--------------+--------------------+-----------+----+------+-----+--------------------+--------------------+--------------------+--------------------+--------------------+--------------------+--------------------+----------+\n",
            "|     review_id|       product_title|star_rating|vine|length|label|          token_text|          stop_token|          hash_token|           idf_token|            features|       rawPrediction|         probability|prediction|\n",
            "+--------------+--------------------+-----------+----+------+-----+--------------------+--------------------+--------------------+--------------------+--------------------+--------------------+--------------------+----------+\n",
            "|R1000147G0K1IW|CoverON® Hybrid D...|          5|   N|    91|  0.0|[coveron®, hybrid...|[coveron®, hybrid...|(262144,[2437,125...|(262144,[2437,125...|(262145,[2437,125...|[-506.90490574645...|[1.0,1.3539198120...|       0.0|\n",
            "|R10005M68IK23V|Spigen Neo Hybrid...|          5|   N|   124|  0.0|[spigen, neo, hyb...|[spigen, neo, hyb...|(262144,[2437,155...|(262144,[2437,155...|(262145,[2437,155...|[-558.96503321631...|[1.0,3.7851308537...|       0.0|\n",
            "|R1000AZRFC5NMI|Avantree Sweatpro...|          3|   N|    62|  0.0|[avantree, sweatp...|[avantree, sweatp...|(262144,[22002,94...|(262144,[22002,94...|(262145,[22002,94...|[-378.47009217349...|[1.0,6.3619620244...|       0.0|\n",
            "|R1000DO42E502D|EasyAcc® 5000mAh ...|          5|   N|   189|  0.0|[easyacc®, 5000ma...|[easyacc®, 5000ma...|(262144,[6122,202...|(262144,[6122,202...|(262145,[6122,202...|[-900.80917128171...|[1.0,2.2679585712...|       0.0|\n",
            "|R1000JUWQG1HHQ|Rockford 3-Feet P...|          5|   N|    47|  0.0|[rockford, 3-feet...|[rockford, 3-feet...|(262144,[26844,49...|(262144,[26844,49...|(262145,[26844,49...|[-402.90841917845...|[1.0,2.9208812732...|       0.0|\n",
            "+--------------+--------------------+-----------+----+------+-----+--------------------+--------------------+--------------------+--------------------+--------------------+--------------------+--------------------+----------+\n",
            "only showing top 5 rows\n",
            "\n"
          ]
        }
      ]
    },
    {
      "cell_type": "code",
      "source": [
        "from pyspark.ml.evaluation import BinaryClassificationEvaluator\n",
        "\n",
        "acc_eval=BinaryClassificationEvaluator(labelCol='label', rawPredictionCol='prediction')\n",
        "acc = acc_eval.evaluate(test_results)\n",
        "print(\"Accuracy of model at predicting reviews was :%f\" % acc)"
      ],
      "metadata": {
        "colab": {
          "base_uri": "https://localhost:8080/"
        },
        "id": "ZwjT_gV2lsdB",
        "outputId": "0bd770c6-70b1-4d11-a260-78bb9fd633bc"
      },
      "execution_count": 16,
      "outputs": [
        {
          "output_type": "stream",
          "name": "stdout",
          "text": [
            "Accuracy of model at predicting reviews was :0.926073\n"
          ]
        }
      ]
    }
  ]
}